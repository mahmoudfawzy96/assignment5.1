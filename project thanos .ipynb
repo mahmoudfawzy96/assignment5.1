{
 "cells": [
  {
   "cell_type": "code",
   "execution_count": 1,
   "metadata": {},
   "outputs": [],
   "source": [
    "import random\n",
    "import os\n",
    "import time"
   ]
  },
  {
   "cell_type": "code",
   "execution_count": 3,
   "metadata": {},
   "outputs": [],
   "source": [
    "def thanos_snap(universe):\n",
    "    half_universe= len(os.listdir(universe)) //2\n",
    "    for i in range(half_universe):\n",
    "        universe = os.listdir('universe')\n",
    "        random_vicitim = random.choice(universe)\n",
    "        os.remove(f'universe/{random_vicitim}')\n",
    "        time.sleep(1)\n",
    "        print(f'destory:{random_vicitim}')\n",
    "    print(\"universe balanced\")"
   ]
  },
  {
   "cell_type": "code",
   "execution_count": 4,
   "metadata": {},
   "outputs": [
    {
     "name": "stdout",
     "output_type": "stream",
     "text": [
      "destory:cover035.png\n",
      "destory:cover022.png\n",
      "destory:cover043.png\n",
      "destory:cover044.png\n",
      "destory:cover045.png\n",
      "destory:cover049.png\n",
      "destory:cover001.png\n",
      "destory:cover029.png\n",
      "destory:cover047.png\n",
      "destory:cover040.png\n",
      "destory:cover008.png\n",
      "destory:cover012.png\n",
      "destory:cover011.png\n",
      "destory:cover010.png\n",
      "destory:cover042.png\n",
      "destory:cover024.png\n",
      "destory:cover033.png\n",
      "destory:cover048.png\n",
      "destory:cover018.png\n",
      "destory:cover039.png\n",
      "destory:cover007.png\n",
      "destory:cover027.png\n",
      "destory:cover026.png\n",
      "destory:cover050.png\n",
      "destory:cover031.png\n",
      "universe balanced\n"
     ]
    }
   ],
   "source": [
    "thanos_snap('universe')"
   ]
  },
  {
   "cell_type": "code",
   "execution_count": 6,
   "metadata": {},
   "outputs": [],
   "source": [
    "new_universe=os.listdir('universe')"
   ]
  },
  {
   "cell_type": "code",
   "execution_count": 7,
   "metadata": {},
   "outputs": [
    {
     "data": {
      "text/plain": [
       "25"
      ]
     },
     "execution_count": 7,
     "metadata": {},
     "output_type": "execute_result"
    }
   ],
   "source": [
    "len(new_universe)"
   ]
  },
  {
   "cell_type": "code",
   "execution_count": 8,
   "metadata": {},
   "outputs": [
    {
     "data": {
      "text/plain": [
       "['cover002.png',\n",
       " 'cover003.png',\n",
       " 'cover004.png',\n",
       " 'cover005.png',\n",
       " 'cover006.png',\n",
       " 'cover009.png',\n",
       " 'cover013.png',\n",
       " 'cover014.png',\n",
       " 'cover015.png',\n",
       " 'cover016.png',\n",
       " 'cover017.png',\n",
       " 'cover019.png',\n",
       " 'cover020.png',\n",
       " 'cover021.png',\n",
       " 'cover023.png',\n",
       " 'cover025.png',\n",
       " 'cover028.png',\n",
       " 'cover030.png',\n",
       " 'cover032.png',\n",
       " 'cover034.png',\n",
       " 'cover036.png',\n",
       " 'cover037.png',\n",
       " 'cover038.png',\n",
       " 'cover041.png',\n",
       " 'cover046.png']"
      ]
     },
     "execution_count": 8,
     "metadata": {},
     "output_type": "execute_result"
    }
   ],
   "source": [
    "new_universe"
   ]
  },
  {
   "cell_type": "code",
   "execution_count": null,
   "metadata": {},
   "outputs": [],
   "source": []
  }
 ],
 "metadata": {
  "kernelspec": {
   "display_name": "Python 3",
   "language": "python",
   "name": "python3"
  },
  "language_info": {
   "codemirror_mode": {
    "name": "ipython",
    "version": 3
   },
   "file_extension": ".py",
   "mimetype": "text/x-python",
   "name": "python",
   "nbconvert_exporter": "python",
   "pygments_lexer": "ipython3",
   "version": "3.7.6"
  }
 },
 "nbformat": 4,
 "nbformat_minor": 4
}
