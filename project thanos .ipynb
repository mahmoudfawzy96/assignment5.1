{
 "cells": [
  {
   "cell_type": "code",
   "execution_count": 2,
   "metadata": {},
   "outputs": [],
   "source": [
    "import random\n",
    "import os\n",
    "import time\n",
    "import string"
   ]
  },
  {
   "cell_type": "code",
   "execution_count": 3,
   "metadata": {},
   "outputs": [],
   "source": [
    "def thanos_snap(universe):\n",
    "    half_universe= len(os.listdir(universe)) //2\n",
    "    for i in range(half_universe):\n",
    "        universe = os.listdir('universe')\n",
    "        random_vicitim = random.choice(universe)\n",
    "        os.remove(f'universe/{random_vicitim}')\n",
    "        time.sleep(1)\n",
    "        print(f'destory:{random_vicitim}')\n",
    "    print(\"universe balanced\")"
   ]
  },
  {
   "cell_type": "code",
   "execution_count": 4,
   "metadata": {},
   "outputs": [
    {
     "name": "stdout",
     "output_type": "stream",
     "text": [
      "destory:cover019.png\n",
      "destory:cover012.png\n",
      "destory:cover039.png\n",
      "destory:cover007.png\n",
      "destory:cover022.png\n",
      "destory:cover046.png\n",
      "destory:cover034.png\n",
      "destory:cover038.png\n",
      "destory:cover050.png\n",
      "destory:cover002.png\n",
      "destory:cover037.png\n",
      "destory:cover028.png\n",
      "destory:cover025.png\n",
      "destory:cover021.png\n",
      "destory:cover042.png\n",
      "destory:cover032.png\n",
      "destory:cover017.png\n",
      "destory:cover018.png\n",
      "destory:cover006.png\n",
      "destory:cover008.png\n",
      "destory:cover014.png\n",
      "destory:cover049.png\n",
      "destory:cover044.png\n",
      "destory:cover005.png\n",
      "destory:cover024.png\n",
      "universe balanced\n"
     ]
    }
   ],
   "source": [
    "thanos_snap('universe')"
   ]
  },
  {
   "cell_type": "code",
   "execution_count": 15,
   "metadata": {},
   "outputs": [
    {
     "data": {
      "text/plain": [
       "['ahxstn.png',\n",
       " 'azlafg.png',\n",
       " 'bjijtp.png',\n",
       " 'czlpcw.png',\n",
       " 'demwqe.png',\n",
       " 'extbuy.png',\n",
       " 'flldec.png',\n",
       " 'gpvqnv.png',\n",
       " 'htekaw.png',\n",
       " 'jsmgff.png',\n",
       " 'kqilta.png',\n",
       " 'kyokxa.png',\n",
       " 'njxggy.png',\n",
       " 'pvfbad.png',\n",
       " 'qgvvhq.png',\n",
       " 'rrdjid.png',\n",
       " 'rvcdvw.png',\n",
       " 'snjuhe.png',\n",
       " 'swbjwq.png',\n",
       " 'ttcigy.png',\n",
       " 'vdrios.png',\n",
       " 'xjwamy.png',\n",
       " 'xlwjap.png',\n",
       " 'ymngpo.png',\n",
       " 'zpllsn.png']"
      ]
     },
     "execution_count": 15,
     "metadata": {},
     "output_type": "execute_result"
    }
   ],
   "source": [
    "new_universe=os.listdir('universe')\n",
    "new_universe"
   ]
  },
  {
   "cell_type": "code",
   "execution_count": 16,
   "metadata": {},
   "outputs": [
    {
     "data": {
      "text/plain": [
       "25"
      ]
     },
     "execution_count": 16,
     "metadata": {},
     "output_type": "execute_result"
    }
   ],
   "source": [
    "len(new_universe)"
   ]
  },
  {
   "cell_type": "code",
   "execution_count": 17,
   "metadata": {},
   "outputs": [
    {
     "data": {
      "text/plain": [
       "'abcdefghijklmnopqrstuvwxyz'"
      ]
     },
     "execution_count": 17,
     "metadata": {},
     "output_type": "execute_result"
    }
   ],
   "source": [
    "letters = string.ascii_lowercase\n",
    "letters"
   ]
  },
  {
   "cell_type": "code",
   "execution_count": 18,
   "metadata": {},
   "outputs": [],
   "source": [
    "for x in new_universe:\n",
    "    name = ''.join(random.choice(letters)for i in range(6)) + '.png'\n",
    "    os.rename(f'universe/{x}' , f'universe/{name}')"
   ]
  },
  {
   "cell_type": "code",
   "execution_count": 19,
   "metadata": {},
   "outputs": [
    {
     "data": {
      "text/plain": [
       "['ahxstn.png',\n",
       " 'azlafg.png',\n",
       " 'bjijtp.png',\n",
       " 'czlpcw.png',\n",
       " 'demwqe.png',\n",
       " 'extbuy.png',\n",
       " 'flldec.png',\n",
       " 'gpvqnv.png',\n",
       " 'htekaw.png',\n",
       " 'jsmgff.png',\n",
       " 'kqilta.png',\n",
       " 'kyokxa.png',\n",
       " 'njxggy.png',\n",
       " 'pvfbad.png',\n",
       " 'qgvvhq.png',\n",
       " 'rrdjid.png',\n",
       " 'rvcdvw.png',\n",
       " 'snjuhe.png',\n",
       " 'swbjwq.png',\n",
       " 'ttcigy.png',\n",
       " 'vdrios.png',\n",
       " 'xjwamy.png',\n",
       " 'xlwjap.png',\n",
       " 'ymngpo.png',\n",
       " 'zpllsn.png']"
      ]
     },
     "execution_count": 19,
     "metadata": {},
     "output_type": "execute_result"
    }
   ],
   "source": [
    "new_universe"
   ]
  },
  {
   "cell_type": "code",
   "execution_count": null,
   "metadata": {},
   "outputs": [],
   "source": []
  }
 ],
 "metadata": {
  "kernelspec": {
   "display_name": "Python 3",
   "language": "python",
   "name": "python3"
  },
  "language_info": {
   "codemirror_mode": {
    "name": "ipython",
    "version": 3
   },
   "file_extension": ".py",
   "mimetype": "text/x-python",
   "name": "python",
   "nbconvert_exporter": "python",
   "pygments_lexer": "ipython3",
   "version": "3.7.6"
  }
 },
 "nbformat": 4,
 "nbformat_minor": 4
}
