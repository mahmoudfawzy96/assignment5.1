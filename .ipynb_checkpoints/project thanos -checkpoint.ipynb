{
 "cells": [
  {
   "cell_type": "code",
   "execution_count": 8,
   "metadata": {},
   "outputs": [],
   "source": [
    "import random\n",
    "import os\n",
    "import time"
   ]
  },
  {
   "cell_type": "code",
   "execution_count": 9,
   "metadata": {},
   "outputs": [],
   "source": [
    "def thanos_snap(universe):\n",
    "    half_universe= len(os.listdir(universe)) //2\n",
    "    for i in range(half_universe):\n",
    "        universe = os.listdir('universe')\n",
    "        random_vicitim = random.choice(universe)\n",
    "        os.remove(f'universe/{random_vicitim}')\n",
    "        time.sleep(1)\n",
    "        print(f'destory:{random_vicitim}')\n",
    "    print(\"universe balanced\")"
   ]
  },
  {
   "cell_type": "code",
   "execution_count": 10,
   "metadata": {},
   "outputs": [
    {
     "name": "stdout",
     "output_type": "stream",
     "text": [
      "destory:cover005.png\n",
      "destory:cover025.png\n",
      "destory:cover016.png\n",
      "destory:cover021.png\n",
      "destory:cover015.png\n",
      "destory:cover030.png\n",
      "universe balanced\n"
     ]
    }
   ],
   "source": [
    "thanos_snap('universe')"
   ]
  },
  {
   "cell_type": "code",
   "execution_count": 11,
   "metadata": {},
   "outputs": [],
   "source": [
    "new_universe=os.listdir('universe')"
   ]
  },
  {
   "cell_type": "code",
   "execution_count": 12,
   "metadata": {},
   "outputs": [
    {
     "data": {
      "text/plain": [
       "7"
      ]
     },
     "execution_count": 12,
     "metadata": {},
     "output_type": "execute_result"
    }
   ],
   "source": [
    "len(new_universe)"
   ]
  },
  {
   "cell_type": "code",
   "execution_count": 13,
   "metadata": {},
   "outputs": [
    {
     "data": {
      "text/plain": [
       "['cover003.png',\n",
       " 'cover006.png',\n",
       " 'cover013.png',\n",
       " 'cover019.png',\n",
       " 'cover032.png',\n",
       " 'cover034.png',\n",
       " 'cover046.png']"
      ]
     },
     "execution_count": 13,
     "metadata": {},
     "output_type": "execute_result"
    }
   ],
   "source": [
    "new_universe"
   ]
  },
  {
   "cell_type": "code",
   "execution_count": null,
   "metadata": {},
   "outputs": [],
   "source": [
    "imp"
   ]
  }
 ],
 "metadata": {
  "kernelspec": {
   "display_name": "Python 3",
   "language": "python",
   "name": "python3"
  },
  "language_info": {
   "codemirror_mode": {
    "name": "ipython",
    "version": 3
   },
   "file_extension": ".py",
   "mimetype": "text/x-python",
   "name": "python",
   "nbconvert_exporter": "python",
   "pygments_lexer": "ipython3",
   "version": "3.7.6"
  }
 },
 "nbformat": 4,
 "nbformat_minor": 4
}
